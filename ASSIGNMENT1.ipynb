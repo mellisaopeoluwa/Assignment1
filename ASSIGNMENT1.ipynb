{
 "cells": [
  {
   "cell_type": "code",
   "execution_count": 6,
   "id": "1b2d5c34",
   "metadata": {},
   "outputs": [
    {
     "name": "stdout",
     "output_type": "stream",
     "text": [
      "Amount of fuel used in 3 months 1200 litres\n"
     ]
    }
   ],
   "source": [
    "nooffuelfor3days=50\n",
    "nofofuelfor6days=100\n",
    "noofkmcoveredfor3days=60\n",
    "noofdaysinaweek=6\n",
    "nooffuelusedinaweek=100\n",
    "noofweeksinamonth=4\n",
    "amountoffuelusedinamonth=noofweeksinamonth * nooffuelusedinaweek\n",
    "amountoffuelusedin3month=amountoffuelusedinamonth * 3 \n",
    "print('Amount of fuel used in 3 months', amountoffuelusedin3month ,'litres')"
   ]
  },
  {
   "cell_type": "code",
   "execution_count": null,
   "id": "919420b1",
   "metadata": {},
   "outputs": [],
   "source": []
  }
 ],
 "metadata": {
  "kernelspec": {
   "display_name": "Python 3 (ipykernel)",
   "language": "python",
   "name": "python3"
  },
  "language_info": {
   "codemirror_mode": {
    "name": "ipython",
    "version": 3
   },
   "file_extension": ".py",
   "mimetype": "text/x-python",
   "name": "python",
   "nbconvert_exporter": "python",
   "pygments_lexer": "ipython3",
   "version": "3.11.1"
  }
 },
 "nbformat": 4,
 "nbformat_minor": 5
}
